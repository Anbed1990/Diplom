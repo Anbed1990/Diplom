{
 "cells": [
  {
   "cell_type": "markdown",
   "metadata": {
    "id": "mXOkIsa2OJWh"
   },
   "source": [
    "# Covid-19 forecasting "
   ]
  },
  {
   "cell_type": "markdown",
   "metadata": {
    "id": "MgrE9-XvOooe"
   },
   "source": [
    "Данный шаблон решения аттестационной задачи предназначен для того, чтобы создать уже готовую структуру, на которую можно нанизывать решение задачи.\n",
    "\n",
    "Этот шаблон универсален: идейно последовательность решения любой исследовательской задачи будет включать точно такие же шаги. Поэтому в будущем можно ориентироваться на этот шаблон.\n",
    "\n",
    "При работе очень важно соблюдать некоторые правила оформления работы:    \n",
    "- Работа пишется в третьем лице, логика построения работы должна примерно соответствовать повествовательной. Представьте, что Вы пишете работу в роли любознательного исследователя, который каждую важную мысль или наблюдение фиксирует у себя в тетради; такой подход позволит сделать чтение исследования приятнее и проще. А это важно - ведь вы пишете и оформляете тетрадь не для собственной гордости, а для того, чтобы эту информацию кто-то мог интерпритировать и использовать.\n",
    "- Блоки должны всегда быть проверены на последовательность выполнения. Мы уже говорили об особенности Jupyter Notebook и Colab запускать блоки в любом порядке. Когда вы будете возвращаться к своей тетради, важно, чтобы вы могли а) запустить тетрадь и б) увидеть результат. Поэтому После окончания выполнения работы обязательно нужно \"прогнать\" тетрадь ещё раз - так мы убедимся, что другой человек или мы (в будущем) сможем воспроизвести исследование.\n",
    "- В конце каждого большого блока/главы (к примеру, EDA) мы должны указывать выводы по проведенной работе. К примеру, логичный вывод \"Введения\" - фиксация того, что мы сформулировали задачи и цели. Звучит излишне, но в других блоках вывод будет гораздо важнее - если нам нужно будет вспомнить быстро результат работы, мы можем обратиться к выводам по каждой главе и понять, что было сделано и каковы результаты проделанной работы.\n",
    "\n",
    "При сдаче работы нужно удалить этот блок 😸."
   ]
  },
  {
   "cell_type": "markdown",
   "metadata": {
    "id": "1zQr-DRYOJUN"
   },
   "source": [
    "## Введение. Постановка целей и задач."
   ]
  },
  {
   "cell_type": "markdown",
   "metadata": {
    "id": "yV73bSO2OJR7"
   },
   "source": [
    "В блоке введение нам необходимо четко обозначить, **почему эта задача появилась, зачем её важно решить**. \n",
    "\n",
    "После того, как мы четко указали на проблему, мы можем сформулировать **цели** исследования и **задачи** исследования. Необходимо всегда помнить, что решение задач ведет к достижению целей, то есть они напрямую взаимосвязаны."
   ]
  },
  {
   "cell_type": "markdown",
   "metadata": {
    "id": "JhXxfyDgOJK6"
   },
   "source": [
    "## Импорт библиотек, ознакомление с данными."
   ]
  },
  {
   "cell_type": "markdown",
   "metadata": {
    "id": "fsEnvXWXUe2z"
   },
   "source": [
    "### Импорт Датафрейма, библиотек, написание функций."
   ]
  },
  {
   "cell_type": "markdown",
   "metadata": {
    "id": "otOFZm6dUexQ"
   },
   "source": [
    "В этом блоке мы импортируем все, что нам нужно для работы: библиотеки, отдельные функции, сам датасет."
   ]
  },
  {
   "cell_type": "code",
   "execution_count": 1,
   "metadata": {
    "id": "Y9HhQemGU6vC"
   },
   "outputs": [
    {
     "name": "stdout",
     "output_type": "stream",
     "text": [
      "Requirement already satisfied: pmdarima in c:\\users\\lenovo\\anaconda3\\lib\\site-packages (1.8.4)\n",
      "Requirement already satisfied: numpy>=1.19.3 in c:\\users\\lenovo\\anaconda3\\lib\\site-packages (from pmdarima) (1.20.1)\n",
      "Requirement already satisfied: joblib>=0.11 in c:\\users\\lenovo\\anaconda3\\lib\\site-packages (from pmdarima) (1.0.1)\n",
      "Requirement already satisfied: pandas>=0.19 in c:\\users\\lenovo\\anaconda3\\lib\\site-packages (from pmdarima) (1.2.4)\n",
      "Requirement already satisfied: setuptools!=50.0.0,>=38.6.0 in c:\\users\\lenovo\\anaconda3\\lib\\site-packages (from pmdarima) (52.0.0.post20210125)\n",
      "Requirement already satisfied: Cython!=0.29.18,>=0.29 in c:\\users\\lenovo\\anaconda3\\lib\\site-packages (from pmdarima) (0.29.23)\n",
      "Requirement already satisfied: scipy>=1.3.2 in c:\\users\\lenovo\\anaconda3\\lib\\site-packages (from pmdarima) (1.6.2)\n",
      "Requirement already satisfied: scikit-learn>=0.22 in c:\\users\\lenovo\\anaconda3\\lib\\site-packages (from pmdarima) (0.24.1)\n",
      "Requirement already satisfied: statsmodels!=0.12.0,>=0.11 in c:\\users\\lenovo\\anaconda3\\lib\\site-packages (from pmdarima) (0.12.2)\n",
      "Requirement already satisfied: urllib3 in c:\\users\\lenovo\\anaconda3\\lib\\site-packages (from pmdarima) (1.26.4)\n",
      "Requirement already satisfied: pytz>=2017.3 in c:\\users\\lenovo\\anaconda3\\lib\\site-packages (from pandas>=0.19->pmdarima) (2021.1)\n",
      "Requirement already satisfied: python-dateutil>=2.7.3 in c:\\users\\lenovo\\anaconda3\\lib\\site-packages (from pandas>=0.19->pmdarima) (2.8.1)\n",
      "Requirement already satisfied: six>=1.5 in c:\\users\\lenovo\\anaconda3\\lib\\site-packages (from python-dateutil>=2.7.3->pandas>=0.19->pmdarima) (1.15.0)\n",
      "Requirement already satisfied: threadpoolctl>=2.0.0 in c:\\users\\lenovo\\anaconda3\\lib\\site-packages (from scikit-learn>=0.22->pmdarima) (2.1.0)\n",
      "Requirement already satisfied: patsy>=0.5 in c:\\users\\lenovo\\anaconda3\\lib\\site-packages (from statsmodels!=0.12.0,>=0.11->pmdarima) (0.5.1)\n"
     ]
    }
   ],
   "source": [
    "!pip install pmdarima"
   ]
  },
  {
   "cell_type": "code",
   "execution_count": 2,
   "metadata": {},
   "outputs": [
    {
     "name": "stdout",
     "output_type": "stream",
     "text": [
      "Requirement already satisfied: fbprophet in c:\\users\\lenovo\\anaconda3\\lib\\site-packages (0.7.1)\n",
      "Requirement already satisfied: matplotlib>=2.0.0 in c:\\users\\lenovo\\anaconda3\\lib\\site-packages (from fbprophet) (3.3.4)\n",
      "Collecting setuptools-git>=1.2\n",
      "  Downloading setuptools_git-1.2-py2.py3-none-any.whl (10 kB)\n",
      "Requirement already satisfied: LunarCalendar>=0.0.9 in c:\\users\\lenovo\\anaconda3\\lib\\site-packages (from fbprophet) (0.0.9)\n",
      "Requirement already satisfied: numpy>=1.15.4 in c:\\users\\lenovo\\anaconda3\\lib\\site-packages (from fbprophet) (1.20.1)\n",
      "Requirement already satisfied: pystan>=2.14 in c:\\users\\lenovo\\anaconda3\\lib\\site-packages (from fbprophet) (2.18.0.0)\n",
      "Collecting cmdstanpy==0.9.5\n",
      "  Downloading cmdstanpy-0.9.5-py3-none-any.whl (37 kB)\n",
      "Requirement already satisfied: holidays>=0.10.2 in c:\\users\\lenovo\\anaconda3\\lib\\site-packages (from fbprophet) (0.11.3.1)\n",
      "Requirement already satisfied: python-dateutil>=2.8.0 in c:\\users\\lenovo\\anaconda3\\lib\\site-packages (from fbprophet) (2.8.1)\n",
      "Requirement already satisfied: tqdm>=4.36.1 in c:\\users\\lenovo\\anaconda3\\lib\\site-packages (from fbprophet) (4.59.0)\n",
      "Requirement already satisfied: convertdate>=2.1.2 in c:\\users\\lenovo\\anaconda3\\lib\\site-packages (from fbprophet) (2.3.2)\n",
      "Requirement already satisfied: Cython>=0.22 in c:\\users\\lenovo\\anaconda3\\lib\\site-packages (from fbprophet) (0.29.23)\n",
      "Requirement already satisfied: pandas>=1.0.4 in c:\\users\\lenovo\\anaconda3\\lib\\site-packages (from fbprophet) (1.2.4)\n",
      "Requirement already satisfied: pytz>=2014.10 in c:\\users\\lenovo\\anaconda3\\lib\\site-packages (from convertdate>=2.1.2->fbprophet) (2021.1)\n",
      "Requirement already satisfied: pymeeus<=1,>=0.3.13 in c:\\users\\lenovo\\anaconda3\\lib\\site-packages (from convertdate>=2.1.2->fbprophet) (0.5.10)\n",
      "Requirement already satisfied: hijri-converter in c:\\users\\lenovo\\anaconda3\\lib\\site-packages (from holidays>=0.10.2->fbprophet) (2.2.2)\n",
      "Requirement already satisfied: korean-lunar-calendar in c:\\users\\lenovo\\anaconda3\\lib\\site-packages (from holidays>=0.10.2->fbprophet) (0.2.1)\n",
      "Requirement already satisfied: ephem>=3.7.5.3 in c:\\users\\lenovo\\anaconda3\\lib\\site-packages (from LunarCalendar>=0.0.9->fbprophet) (4.1.3)\n",
      "Requirement already satisfied: kiwisolver>=1.0.1 in c:\\users\\lenovo\\anaconda3\\lib\\site-packages (from matplotlib>=2.0.0->fbprophet) (1.3.1)\n",
      "Requirement already satisfied: pillow>=6.2.0 in c:\\users\\lenovo\\anaconda3\\lib\\site-packages (from matplotlib>=2.0.0->fbprophet) (8.2.0)\n",
      "Requirement already satisfied: cycler>=0.10 in c:\\users\\lenovo\\anaconda3\\lib\\site-packages (from matplotlib>=2.0.0->fbprophet) (0.10.0)\n",
      "Requirement already satisfied: pyparsing!=2.0.4,!=2.1.2,!=2.1.6,>=2.0.3 in c:\\users\\lenovo\\anaconda3\\lib\\site-packages (from matplotlib>=2.0.0->fbprophet) (2.4.7)\n",
      "Requirement already satisfied: six in c:\\users\\lenovo\\anaconda3\\lib\\site-packages (from cycler>=0.10->matplotlib>=2.0.0->fbprophet) (1.15.0)\n",
      "Installing collected packages: setuptools-git, cmdstanpy\n",
      "Successfully installed cmdstanpy-0.9.5 setuptools-git-1.2\n"
     ]
    }
   ],
   "source": [
    "!pip install fbprophet"
   ]
  },
  {
   "cell_type": "code",
   "execution_count": 3,
   "metadata": {},
   "outputs": [
    {
     "name": "stderr",
     "output_type": "stream",
     "text": [
      "Importing plotly failed. Interactive plots will not work.\n"
     ]
    }
   ],
   "source": [
    "import numpy as np\n",
    "import pandas as pd\n",
    "import seaborn as sns\n",
    "from matplotlib import pyplot as plt\n",
    "\n",
    "from statsmodels.tsa.statespace.sarimax import SARIMAX       # для модели SARIMAX\n",
    "from statsmodels.tsa.seasonal import seasonal_decompose      # для ETS графиков\n",
    "from pmdarima import auto_arima                              # для поиска ARIMA моделей (подбирает оптимальные параметры для модели)\n",
    "from fbprophet import Prophet                                # для модели Профет\n",
    "from statsmodels.tsa.holtwinters import ExponentialSmoothing # для модели Экспоненцальное сглаживание\n",
    "\n",
    "from sklearn.metrics import mean_squared_error\n",
    "from sklearn.metrics import mean_absolute_error\n",
    "from statsmodels.tools.eval_measures import rmse"
   ]
  },
  {
   "cell_type": "code",
   "execution_count": 4,
   "metadata": {
    "id": "Sx_GJx5XU8Zi"
   },
   "outputs": [],
   "source": [
    "url = 'https://raw.githubusercontent.com/owid/covid-19-data/master/public/data/owid-covid-data.csv'\n",
    "df = pd.read_csv(url)"
   ]
  },
  {
   "cell_type": "code",
   "execution_count": 5,
   "metadata": {
    "id": "Iqtl_rYgVCrb"
   },
   "outputs": [
    {
     "data": {
      "text/html": [
       "<div>\n",
       "<style scoped>\n",
       "    .dataframe tbody tr th:only-of-type {\n",
       "        vertical-align: middle;\n",
       "    }\n",
       "\n",
       "    .dataframe tbody tr th {\n",
       "        vertical-align: top;\n",
       "    }\n",
       "\n",
       "    .dataframe thead th {\n",
       "        text-align: right;\n",
       "    }\n",
       "</style>\n",
       "<table border=\"1\" class=\"dataframe\">\n",
       "  <thead>\n",
       "    <tr style=\"text-align: right;\">\n",
       "      <th></th>\n",
       "      <th>iso_code</th>\n",
       "      <th>continent</th>\n",
       "      <th>location</th>\n",
       "      <th>date</th>\n",
       "      <th>total_cases</th>\n",
       "      <th>new_cases</th>\n",
       "      <th>new_cases_smoothed</th>\n",
       "      <th>total_deaths</th>\n",
       "      <th>new_deaths</th>\n",
       "      <th>new_deaths_smoothed</th>\n",
       "      <th>...</th>\n",
       "      <th>female_smokers</th>\n",
       "      <th>male_smokers</th>\n",
       "      <th>handwashing_facilities</th>\n",
       "      <th>hospital_beds_per_thousand</th>\n",
       "      <th>life_expectancy</th>\n",
       "      <th>human_development_index</th>\n",
       "      <th>excess_mortality_cumulative_absolute</th>\n",
       "      <th>excess_mortality_cumulative</th>\n",
       "      <th>excess_mortality</th>\n",
       "      <th>excess_mortality_cumulative_per_million</th>\n",
       "    </tr>\n",
       "  </thead>\n",
       "  <tbody>\n",
       "    <tr>\n",
       "      <th>0</th>\n",
       "      <td>AFG</td>\n",
       "      <td>Asia</td>\n",
       "      <td>Afghanistan</td>\n",
       "      <td>2020-02-24</td>\n",
       "      <td>5.0</td>\n",
       "      <td>5.0</td>\n",
       "      <td>NaN</td>\n",
       "      <td>NaN</td>\n",
       "      <td>NaN</td>\n",
       "      <td>NaN</td>\n",
       "      <td>...</td>\n",
       "      <td>NaN</td>\n",
       "      <td>NaN</td>\n",
       "      <td>37.746</td>\n",
       "      <td>0.5</td>\n",
       "      <td>64.83</td>\n",
       "      <td>0.511</td>\n",
       "      <td>NaN</td>\n",
       "      <td>NaN</td>\n",
       "      <td>NaN</td>\n",
       "      <td>NaN</td>\n",
       "    </tr>\n",
       "    <tr>\n",
       "      <th>1</th>\n",
       "      <td>AFG</td>\n",
       "      <td>Asia</td>\n",
       "      <td>Afghanistan</td>\n",
       "      <td>2020-02-25</td>\n",
       "      <td>5.0</td>\n",
       "      <td>0.0</td>\n",
       "      <td>NaN</td>\n",
       "      <td>NaN</td>\n",
       "      <td>NaN</td>\n",
       "      <td>NaN</td>\n",
       "      <td>...</td>\n",
       "      <td>NaN</td>\n",
       "      <td>NaN</td>\n",
       "      <td>37.746</td>\n",
       "      <td>0.5</td>\n",
       "      <td>64.83</td>\n",
       "      <td>0.511</td>\n",
       "      <td>NaN</td>\n",
       "      <td>NaN</td>\n",
       "      <td>NaN</td>\n",
       "      <td>NaN</td>\n",
       "    </tr>\n",
       "    <tr>\n",
       "      <th>2</th>\n",
       "      <td>AFG</td>\n",
       "      <td>Asia</td>\n",
       "      <td>Afghanistan</td>\n",
       "      <td>2020-02-26</td>\n",
       "      <td>5.0</td>\n",
       "      <td>0.0</td>\n",
       "      <td>NaN</td>\n",
       "      <td>NaN</td>\n",
       "      <td>NaN</td>\n",
       "      <td>NaN</td>\n",
       "      <td>...</td>\n",
       "      <td>NaN</td>\n",
       "      <td>NaN</td>\n",
       "      <td>37.746</td>\n",
       "      <td>0.5</td>\n",
       "      <td>64.83</td>\n",
       "      <td>0.511</td>\n",
       "      <td>NaN</td>\n",
       "      <td>NaN</td>\n",
       "      <td>NaN</td>\n",
       "      <td>NaN</td>\n",
       "    </tr>\n",
       "    <tr>\n",
       "      <th>3</th>\n",
       "      <td>AFG</td>\n",
       "      <td>Asia</td>\n",
       "      <td>Afghanistan</td>\n",
       "      <td>2020-02-27</td>\n",
       "      <td>5.0</td>\n",
       "      <td>0.0</td>\n",
       "      <td>NaN</td>\n",
       "      <td>NaN</td>\n",
       "      <td>NaN</td>\n",
       "      <td>NaN</td>\n",
       "      <td>...</td>\n",
       "      <td>NaN</td>\n",
       "      <td>NaN</td>\n",
       "      <td>37.746</td>\n",
       "      <td>0.5</td>\n",
       "      <td>64.83</td>\n",
       "      <td>0.511</td>\n",
       "      <td>NaN</td>\n",
       "      <td>NaN</td>\n",
       "      <td>NaN</td>\n",
       "      <td>NaN</td>\n",
       "    </tr>\n",
       "    <tr>\n",
       "      <th>4</th>\n",
       "      <td>AFG</td>\n",
       "      <td>Asia</td>\n",
       "      <td>Afghanistan</td>\n",
       "      <td>2020-02-28</td>\n",
       "      <td>5.0</td>\n",
       "      <td>0.0</td>\n",
       "      <td>NaN</td>\n",
       "      <td>NaN</td>\n",
       "      <td>NaN</td>\n",
       "      <td>NaN</td>\n",
       "      <td>...</td>\n",
       "      <td>NaN</td>\n",
       "      <td>NaN</td>\n",
       "      <td>37.746</td>\n",
       "      <td>0.5</td>\n",
       "      <td>64.83</td>\n",
       "      <td>0.511</td>\n",
       "      <td>NaN</td>\n",
       "      <td>NaN</td>\n",
       "      <td>NaN</td>\n",
       "      <td>NaN</td>\n",
       "    </tr>\n",
       "  </tbody>\n",
       "</table>\n",
       "<p>5 rows × 67 columns</p>\n",
       "</div>"
      ],
      "text/plain": [
       "  iso_code continent     location        date  total_cases  new_cases  \\\n",
       "0      AFG      Asia  Afghanistan  2020-02-24          5.0        5.0   \n",
       "1      AFG      Asia  Afghanistan  2020-02-25          5.0        0.0   \n",
       "2      AFG      Asia  Afghanistan  2020-02-26          5.0        0.0   \n",
       "3      AFG      Asia  Afghanistan  2020-02-27          5.0        0.0   \n",
       "4      AFG      Asia  Afghanistan  2020-02-28          5.0        0.0   \n",
       "\n",
       "   new_cases_smoothed  total_deaths  new_deaths  new_deaths_smoothed  ...  \\\n",
       "0                 NaN           NaN         NaN                  NaN  ...   \n",
       "1                 NaN           NaN         NaN                  NaN  ...   \n",
       "2                 NaN           NaN         NaN                  NaN  ...   \n",
       "3                 NaN           NaN         NaN                  NaN  ...   \n",
       "4                 NaN           NaN         NaN                  NaN  ...   \n",
       "\n",
       "   female_smokers  male_smokers  handwashing_facilities  \\\n",
       "0             NaN           NaN                  37.746   \n",
       "1             NaN           NaN                  37.746   \n",
       "2             NaN           NaN                  37.746   \n",
       "3             NaN           NaN                  37.746   \n",
       "4             NaN           NaN                  37.746   \n",
       "\n",
       "   hospital_beds_per_thousand  life_expectancy  human_development_index  \\\n",
       "0                         0.5            64.83                    0.511   \n",
       "1                         0.5            64.83                    0.511   \n",
       "2                         0.5            64.83                    0.511   \n",
       "3                         0.5            64.83                    0.511   \n",
       "4                         0.5            64.83                    0.511   \n",
       "\n",
       "   excess_mortality_cumulative_absolute  excess_mortality_cumulative  \\\n",
       "0                                   NaN                          NaN   \n",
       "1                                   NaN                          NaN   \n",
       "2                                   NaN                          NaN   \n",
       "3                                   NaN                          NaN   \n",
       "4                                   NaN                          NaN   \n",
       "\n",
       "   excess_mortality  excess_mortality_cumulative_per_million  \n",
       "0               NaN                                      NaN  \n",
       "1               NaN                                      NaN  \n",
       "2               NaN                                      NaN  \n",
       "3               NaN                                      NaN  \n",
       "4               NaN                                      NaN  \n",
       "\n",
       "[5 rows x 67 columns]"
      ]
     },
     "execution_count": 5,
     "metadata": {},
     "output_type": "execute_result"
    }
   ],
   "source": [
    "df.head()"
   ]
  },
  {
   "cell_type": "markdown",
   "metadata": {
    "id": "plIXeY2aUeuv"
   },
   "source": [
    "### Знакомство с данными."
   ]
  },
  {
   "cell_type": "markdown",
   "metadata": {
    "id": "2CFkHRlGUerR"
   },
   "source": [
    "Этот блок посвящен первоначальному знакомству с данными\n",
    "\n",
    "Наша задача - посмотреть на данные методами .info(), а также изучить их визуально.\n",
    "\n",
    "Будет удобно рассматривать определенный блок - одну страну, один месяц одной страны.\n",
    "\n",
    "Здесь же надо определиться с описанием данных - лучше всего для себя пояснить, с чем мы имеем дело. В данном случае столбцов слишком много, поэтому необходимо описать только самое важное - максимум 7-8 столбцов."
   ]
  },
  {
   "cell_type": "markdown",
   "metadata": {
    "id": "-8L1ZhXlsc4E"
   },
   "source": [
    "Как только у нас есть информация, что данные получены без ошибок, а также есть самое общее представление о содержимом, мы можем перейти к следующему пункту.."
   ]
  },
  {
   "cell_type": "code",
   "execution_count": 6,
   "metadata": {},
   "outputs": [
    {
     "name": "stdout",
     "output_type": "stream",
     "text": [
      "<class 'pandas.core.frame.DataFrame'>\n",
      "RangeIndex: 149028 entries, 0 to 149027\n",
      "Data columns (total 67 columns):\n",
      " #   Column                                      Non-Null Count   Dtype  \n",
      "---  ------                                      --------------   -----  \n",
      " 0   iso_code                                    149028 non-null  object \n",
      " 1   continent                                   140034 non-null  object \n",
      " 2   location                                    149028 non-null  object \n",
      " 3   date                                        149028 non-null  object \n",
      " 4   total_cases                                 146418 non-null  float64\n",
      " 5   new_cases                                   146412 non-null  float64\n",
      " 6   new_cases_smoothed                          145267 non-null  float64\n",
      " 7   total_deaths                                129414 non-null  float64\n",
      " 8   new_deaths                                  129610 non-null  float64\n",
      " 9   new_deaths_smoothed                         145267 non-null  float64\n",
      " 10  total_cases_per_million                     145734 non-null  float64\n",
      " 11  new_cases_per_million                       145728 non-null  float64\n",
      " 12  new_cases_smoothed_per_million              144588 non-null  float64\n",
      " 13  total_deaths_per_million                    128743 non-null  float64\n",
      " 14  new_deaths_per_million                      128939 non-null  float64\n",
      " 15  new_deaths_smoothed_per_million             144588 non-null  float64\n",
      " 16  reproduction_rate                           112010 non-null  float64\n",
      " 17  icu_patients                                17322 non-null   float64\n",
      " 18  icu_patients_per_million                    17322 non-null   float64\n",
      " 19  hosp_patients                               19775 non-null   float64\n",
      " 20  hosp_patients_per_million                   19775 non-null   float64\n",
      " 21  weekly_icu_admissions                       1347 non-null    float64\n",
      " 22  weekly_icu_admissions_per_million           1347 non-null    float64\n",
      " 23  weekly_hosp_admissions                      2242 non-null    float64\n",
      " 24  weekly_hosp_admissions_per_million          2242 non-null    float64\n",
      " 25  new_tests                                   59360 non-null   float64\n",
      " 26  total_tests                                 59523 non-null   float64\n",
      " 27  total_tests_per_thousand                    59523 non-null   float64\n",
      " 28  new_tests_per_thousand                      59360 non-null   float64\n",
      " 29  new_tests_smoothed                          72331 non-null   float64\n",
      " 30  new_tests_smoothed_per_thousand             71647 non-null   float64\n",
      " 31  positive_rate                               67517 non-null   float64\n",
      " 32  tests_per_case                              66855 non-null   float64\n",
      " 33  tests_units                                 73771 non-null   object \n",
      " 34  total_vaccinations                          37381 non-null   float64\n",
      " 35  people_vaccinated                           35950 non-null   float64\n",
      " 36  people_fully_vaccinated                     33132 non-null   float64\n",
      " 37  total_boosters                              10701 non-null   float64\n",
      " 38  new_vaccinations                            30975 non-null   float64\n",
      " 39  new_vaccinations_smoothed                   68120 non-null   float64\n",
      " 40  total_vaccinations_per_hundred              37381 non-null   float64\n",
      " 41  people_vaccinated_per_hundred               35950 non-null   float64\n",
      " 42  people_fully_vaccinated_per_hundred         33132 non-null   float64\n",
      " 43  total_boosters_per_hundred                  10701 non-null   float64\n",
      " 44  new_vaccinations_smoothed_per_million       68120 non-null   float64\n",
      " 45  new_people_vaccinated_smoothed              66986 non-null   float64\n",
      " 46  new_people_vaccinated_smoothed_per_hundred  66986 non-null   float64\n",
      " 47  stringency_index                            117268 non-null  float64\n",
      " 48  population                                  148027 non-null  float64\n",
      " 49  population_density                          132670 non-null  float64\n",
      " 50  median_age                                  123819 non-null  float64\n",
      " 51  aged_65_older                               122473 non-null  float64\n",
      " 52  aged_70_older                               123154 non-null  float64\n",
      " 53  gdp_per_capita                              124208 non-null  float64\n",
      " 54  extreme_poverty                             82009 non-null   float64\n",
      " 55  cardiovasc_death_rate                       122840 non-null  float64\n",
      " 56  diabetes_prevalence                         129131 non-null  float64\n",
      " 57  female_smokers                              95153 non-null   float64\n",
      " 58  male_smokers                                93781 non-null   float64\n",
      " 59  handwashing_facilities                      61513 non-null   float64\n",
      " 60  hospital_beds_per_thousand                  110992 non-null  float64\n",
      " 61  life_expectancy                             139082 non-null  float64\n",
      " 62  human_development_index                     122315 non-null  float64\n",
      " 63  excess_mortality_cumulative_absolute        5125 non-null    float64\n",
      " 64  excess_mortality_cumulative                 5125 non-null    float64\n",
      " 65  excess_mortality                            5125 non-null    float64\n",
      " 66  excess_mortality_cumulative_per_million     5125 non-null    float64\n",
      "dtypes: float64(62), object(5)\n",
      "memory usage: 76.2+ MB\n"
     ]
    }
   ],
   "source": [
    "df.info()"
   ]
  },
  {
   "cell_type": "code",
   "execution_count": 7,
   "metadata": {},
   "outputs": [
    {
     "data": {
      "text/plain": [
       "array(['Afghanistan', 'Africa', 'Albania', 'Algeria', 'Andorra', 'Angola',\n",
       "       'Anguilla', 'Antigua and Barbuda', 'Argentina', 'Armenia', 'Aruba',\n",
       "       'Asia', 'Australia', 'Austria', 'Azerbaijan', 'Bahamas', 'Bahrain',\n",
       "       'Bangladesh', 'Barbados', 'Belarus', 'Belgium', 'Belize', 'Benin',\n",
       "       'Bermuda', 'Bhutan', 'Bolivia', 'Bonaire Sint Eustatius and Saba',\n",
       "       'Bosnia and Herzegovina', 'Botswana', 'Brazil',\n",
       "       'British Virgin Islands', 'Brunei', 'Bulgaria', 'Burkina Faso',\n",
       "       'Burundi', 'Cambodia', 'Cameroon', 'Canada', 'Cape Verde',\n",
       "       'Cayman Islands', 'Central African Republic', 'Chad', 'Chile',\n",
       "       'China', 'Colombia', 'Comoros', 'Congo', 'Cook Islands',\n",
       "       'Costa Rica', \"Cote d'Ivoire\", 'Croatia', 'Cuba', 'Curacao',\n",
       "       'Cyprus', 'Czechia', 'Democratic Republic of Congo', 'Denmark',\n",
       "       'Djibouti', 'Dominica', 'Dominican Republic', 'Ecuador', 'Egypt',\n",
       "       'El Salvador', 'Equatorial Guinea', 'Eritrea', 'Estonia',\n",
       "       'Eswatini', 'Ethiopia', 'Europe', 'European Union',\n",
       "       'Faeroe Islands', 'Falkland Islands', 'Fiji', 'Finland', 'France',\n",
       "       'French Polynesia', 'Gabon', 'Gambia', 'Georgia', 'Germany',\n",
       "       'Ghana', 'Gibraltar', 'Greece', 'Greenland', 'Grenada',\n",
       "       'Guatemala', 'Guernsey', 'Guinea', 'Guinea-Bissau', 'Guyana',\n",
       "       'Haiti', 'High income', 'Honduras', 'Hong Kong', 'Hungary',\n",
       "       'Iceland', 'India', 'Indonesia', 'International', 'Iran', 'Iraq',\n",
       "       'Ireland', 'Isle of Man', 'Israel', 'Italy', 'Jamaica', 'Japan',\n",
       "       'Jersey', 'Jordan', 'Kazakhstan', 'Kenya', 'Kiribati', 'Kosovo',\n",
       "       'Kuwait', 'Kyrgyzstan', 'Laos', 'Latvia', 'Lebanon', 'Lesotho',\n",
       "       'Liberia', 'Libya', 'Liechtenstein', 'Lithuania', 'Low income',\n",
       "       'Lower middle income', 'Luxembourg', 'Macao', 'Madagascar',\n",
       "       'Malawi', 'Malaysia', 'Maldives', 'Mali', 'Malta',\n",
       "       'Marshall Islands', 'Mauritania', 'Mauritius', 'Mexico',\n",
       "       'Micronesia (country)', 'Moldova', 'Monaco', 'Mongolia',\n",
       "       'Montenegro', 'Montserrat', 'Morocco', 'Mozambique', 'Myanmar',\n",
       "       'Namibia', 'Nauru', 'Nepal', 'Netherlands', 'New Caledonia',\n",
       "       'New Zealand', 'Nicaragua', 'Niger', 'Nigeria', 'Niue',\n",
       "       'North America', 'North Macedonia', 'Northern Cyprus', 'Norway',\n",
       "       'Oceania', 'Oman', 'Pakistan', 'Palau', 'Palestine', 'Panama',\n",
       "       'Papua New Guinea', 'Paraguay', 'Peru', 'Philippines', 'Pitcairn',\n",
       "       'Poland', 'Portugal', 'Qatar', 'Romania', 'Russia', 'Rwanda',\n",
       "       'Saint Helena', 'Saint Kitts and Nevis', 'Saint Lucia',\n",
       "       'Saint Pierre and Miquelon', 'Saint Vincent and the Grenadines',\n",
       "       'Samoa', 'San Marino', 'Sao Tome and Principe', 'Saudi Arabia',\n",
       "       'Senegal', 'Serbia', 'Seychelles', 'Sierra Leone', 'Singapore',\n",
       "       'Sint Maarten (Dutch part)', 'Slovakia', 'Slovenia',\n",
       "       'Solomon Islands', 'Somalia', 'South Africa', 'South America',\n",
       "       'South Korea', 'South Sudan', 'Spain', 'Sri Lanka', 'Sudan',\n",
       "       'Suriname', 'Sweden', 'Switzerland', 'Syria', 'Taiwan',\n",
       "       'Tajikistan', 'Tanzania', 'Thailand', 'Timor', 'Togo', 'Tokelau',\n",
       "       'Tonga', 'Trinidad and Tobago', 'Tunisia', 'Turkey',\n",
       "       'Turkmenistan', 'Turks and Caicos Islands', 'Tuvalu', 'Uganda',\n",
       "       'Ukraine', 'United Arab Emirates', 'United Kingdom',\n",
       "       'United States', 'Upper middle income', 'Uruguay', 'Uzbekistan',\n",
       "       'Vanuatu', 'Vatican', 'Venezuela', 'Vietnam', 'Wallis and Futuna',\n",
       "       'World', 'Yemen', 'Zambia', 'Zimbabwe'], dtype=object)"
      ]
     },
     "execution_count": 7,
     "metadata": {},
     "output_type": "execute_result"
    }
   ],
   "source": [
    "df.location.unique()"
   ]
  },
  {
   "cell_type": "markdown",
   "metadata": {
    "id": "Efv0vhWsUepF"
   },
   "source": [
    "## Предобработка данных"
   ]
  },
  {
   "cell_type": "code",
   "execution_count": null,
   "metadata": {},
   "outputs": [],
   "source": []
  },
  {
   "cell_type": "markdown",
   "metadata": {
    "id": "pO4OjmPkuZbv"
   },
   "source": [
    "### Фильтрация данных"
   ]
  },
  {
   "cell_type": "markdown",
   "metadata": {
    "id": "9YBLWrQxuZZ3"
   },
   "source": [
    "Обычно фильтрацию данных делают позже - когда нужно непосредственно работать с данными. В нашем случае это неудобно: у нас условие, по которому мы смотрим на 1 определенную страну. Поэтому здесь нужно **вывести список стран и выбрать 1 конкретную страну**. \n",
    "\n",
    "С другой стороны, столбцов в задании также дали многовато. Поэтому на этом этапе нам нужно избавиться от всех ненужных столбцов. Чтобы понять, какие столбцы нужны - лучше всего вспомнить суть задачи. \n",
    "\n",
    "\n",
    "По итогу у нас должен остаться небольшой **датасет** с данными по 1 стране и самыми нужными столбцами."
   ]
  },
  {
   "cell_type": "markdown",
   "metadata": {
    "id": "clnxdMqFs7Lw"
   },
   "source": [
    "### Обработка пропусков"
   ]
  },
  {
   "cell_type": "markdown",
   "metadata": {
    "id": "QrdFwQnLtc4K"
   },
   "source": [
    "В этом блоке мы должны понять - почему у нас есть пропуски. Главный вопрос - какова их природа? \n",
    "\n",
    "После того, как мы это поймем, мы можем принять решение относительно заполнения пропусков."
   ]
  },
  {
   "cell_type": "markdown",
   "metadata": {
    "id": "aXz-BRtmtc2E"
   },
   "source": [
    "Главный момент: **в рамках этого задания мы не удаляем ничего, связанного с пропусками!**\n",
    "\n",
    "Главная причина - характер работы с данными: мы работаем в этой задаче с временным промежутком, и нам важно, чтобы не было отсутствующих дат. К примеру, ситуация, когда у нас есть пропуск продолжительностью от 1 до 3 дней в середине временного промежутка, попросту неприемлима."
   ]
  },
  {
   "cell_type": "markdown",
   "metadata": {
    "id": "PsewIQW_uRTq"
   },
   "source": [
    "После обработки пропусков нам обязательно нужно проверить - всё ли в порядке. Выведите данные и проверьте заполненность. Зафиксируйте то, что пропусков больше нет."
   ]
  },
  {
   "cell_type": "markdown",
   "metadata": {
    "id": "q8gTgMtTVpYE"
   },
   "source": [
    "### Вывод по этапу.\n"
   ]
  },
  {
   "cell_type": "markdown",
   "metadata": {
    "id": "dxNx7ZCA1FrO"
   },
   "source": []
  },
  {
   "cell_type": "markdown",
   "metadata": {
    "id": "ychutOlHtcz_"
   },
   "source": [
    "## EDA или разведочный анализ данных."
   ]
  },
  {
   "cell_type": "markdown",
   "metadata": {
    "id": "u_-__QdXtcxv"
   },
   "source": [
    "В данном блоке наша задача - познакомиться \"поближе\" с данными, которыми мы располагаем.\n",
    "\n",
    "Что лучше всего сделать:    \n",
    "- Сделать столбец с датами индексом;\n",
    "- Вывести статистику по нужным столбцам;\n",
    "- Построить графическое отображение столбцов;\n",
    "- Попробовать определить - есть ли столбцы, которые мы можем отфильтровать (к примеру, самые ранние записи, где информации могло не быть и где были NaN). **- такого может и не быть**\n",
    "\n",
    "\n",
    "Проделав действия выше, мы выполним минимум, необходимый для дальнейшей работы. \n",
    "\n",
    "Помимо этой информации, здесь же нужно всесторонне познакомиться с рассматриваемыми данными в контексте процесса/явления:    \n",
    "- С чем связан рост или падение метрики в столбце? (почему заболеваемость может расти или падать)\n",
    "- Как можно охарактеризовать зависимость по метрике? \n",
    "\n",
    "Хорошо здесь описать всё, что влияет на метрику, и что может нам помочь определить следующее: можем ли мы достоверно предсказать рост или падение метрики на основании одной переменной? Или здесь нужны методы посложнее, с большим числом входных данных и зависимостей?\n",
    "\n",
    "Отвечайте на вопросы честно! "
   ]
  },
  {
   "cell_type": "markdown",
   "metadata": {
    "id": "KM8Op5eGtcvq"
   },
   "source": [
    "Как только мы поняли, что описанной информации достаточно - можно перейти к следующему пункту."
   ]
  },
  {
   "cell_type": "markdown",
   "metadata": {
    "id": "v5F1qQuCtctd"
   },
   "source": [
    "## Построение моделей, анализ результатов."
   ]
  },
  {
   "cell_type": "markdown",
   "metadata": {
    "id": "I3XRqO2002t7"
   },
   "source": [
    "Данный блок содержит в себе решение поставленной задачи.\n",
    "\n",
    "В прошлых блоках мы убедились в целостности данных, их логичности, а также в том, что мы понимаем, с чем мы имеем дело. \n",
    "\n",
    "На этом этапе у нас должен быть объект типа DataFrame или Series, где индекс - даты, а в значениях находится нужная информация. То есть временной ряд."
   ]
  },
  {
   "cell_type": "markdown",
   "metadata": {
    "id": "6LaMz5Kz17gQ"
   },
   "source": [
    "В данном блоке у нас должно быть от трёх до четырех подглав:    \n",
    "- Разделение датасета на тренировочную и тестовую (валидационную) выборки, проверка на статичность, построение графиков автокорреляции и частичной автокорреляции, разбивка на сезонность и тренд.\n",
    "- Применение 1 способа прогнозирования;\n",
    "- Применение 2 способа прогнозирования;\n",
    "- (Применение 3 способа прогнозирования); **По желанию**\n",
    "\n",
    "Первый пункт - разделение датасета - универсален, данные из него не нужно обновлять или заного рассчитывать.\n",
    "\n",
    "Остальные три пункта содержат примерно одинаковый алгоритм действий:    \n",
    "1. Описываем вкратце модель.\n",
    "2. Создаем модель.\n",
    "3. Обучаем модель.\n",
    "4. Создаем прогноз.\n",
    "5. Сравниваем прогноз и предсказание. \n",
    "6. Рассчитываем качество полученной модели и прогноза.\n",
    "7. Делаем выводы по прогнозу.\n",
    "\n",
    "\n",
    "Какие модели у нас есть:\n",
    "- В рамках курса мы рассмотрели модель ARIMA, её улучшенную версию SARIMA. Обязательно попробуйте использовать эту модель;\n",
    "- Модель экспаненционного сглаживающего среднего;\n",
    "- Модель Хольта-Винтерса.\n",
    "\n",
    "Последние 2 модели мы не изучали, поэтому можно попробовать использовать составные от модели ARIMA, которые мы рассматривали в лекции - AR, MA.\n",
    "\n",
    "После получения прогноза отобразите графики **прогноз vs факт**, чтобы визуально можно было посмотреть на то, как точно построен прогноз. \n",
    "\n",
    "Как понять, подходит ли модель. Попробуйте использовать следующие методы рассчета ошибки:\n",
    "- MAPE или средняя абсолютная ошибка в процентах.\n",
    "- RMSE - квадратный корень из среднеквадратичной ошибки.\n",
    "- MSE - среднеквадратичный корень (связан  с RMSE).\n",
    "\n",
    "В конце - сравните полученные метрики с ошибками и выберите ту модель, которая точнее всего создает прогноз.\n",
    "\n",
    "Ещё один важный момент - горизонт прогнозирования и сравнение прогноза с данными. Горизонт планирования нужно сделать небольшим - примерно 10-15 наблюдений (то есть 10-15 дней). И в ошибку нужно сравнивать с таким же числом наблюдений за тот же период по реальным данным!\n",
    "\n",
    "Также отмечу, что прогноз, скорее всего, будет не самым точным, а возможно, он совсем покажет что-то непонятное. С учетом того, насколько сложен процесс распространения коронавирусной инфекции, можно с уверенностью сказать, что обычный анализ временного ряда врядли даст очень хороший результат. Иначе бы у ученых-прогнозистов не было проблем с предзказанием коронавирусной инфекии 🙌."
   ]
  },
  {
   "cell_type": "markdown",
   "metadata": {
    "id": "gX7Ue2304viI"
   },
   "source": [
    "## Выводы"
   ]
  },
  {
   "cell_type": "markdown",
   "metadata": {
    "id": "wmuZ3A2_4vgF"
   },
   "source": [
    "В данном блоке опишите общие выводы по работе: что было сделано, что было получено. Помните, отрицательный результат - тоже результат. Поэтому указывайте информацию честно и беспристратно. "
   ]
  }
 ],
 "metadata": {
  "colab": {
   "collapsed_sections": [],
   "name": "Шаблон_аттестация.ipynb",
   "provenance": []
  },
  "kernelspec": {
   "display_name": "Python 3",
   "language": "python",
   "name": "python3"
  },
  "language_info": {
   "codemirror_mode": {
    "name": "ipython",
    "version": 3
   },
   "file_extension": ".py",
   "mimetype": "text/x-python",
   "name": "python",
   "nbconvert_exporter": "python",
   "pygments_lexer": "ipython3",
   "version": "3.8.8"
  }
 },
 "nbformat": 4,
 "nbformat_minor": 1
}
